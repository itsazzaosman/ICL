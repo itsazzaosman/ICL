{
  "cells": [
    {
      "cell_type": "markdown",
      "id": "3dccf32a",
      "metadata": {
        "id": "3dccf32a"
      },
      "source": [
        "**Exercise 1**(<font color = red> 6pts  </font>)\n",
        "\n",
        "1- A store charges RWF 12 per item if you buy less than 10 items. If you buy between 10 and 99 items, the cost is RWF 10 per item. If you buy 100 or more items, the cost is RWF 7 per item. Write the ADL of the function, named <b>Cost</b>, that takes how many items ,$n$, they are buying and returns the total cost. (<font color = red> 3pts  </font>)\n",
        "\n",
        "2- Translate the ADL into a python code.(<font color = red> 2pts  </font>)"
      ]
    },
    {
      "cell_type": "code",
      "execution_count": 4,
      "id": "6307b832",
      "metadata": {
        "colab": {
          "base_uri": "https://localhost:8080/"
        },
        "id": "6307b832",
        "outputId": "2a55bf53-f780-40fd-c6b8-343864bd729d"
      },
      "outputs": [
        {
          "output_type": "execute_result",
          "data": {
            "text/plain": [
              "150"
            ]
          },
          "metadata": {},
          "execution_count": 4
        }
      ],
      "source": [
        "def Cost(number_of_item):\n",
        "    if number_of_item < 10:\n",
        "        return number_of_item * 12\n",
        "    elif 10 <= number_of_item < 100:\n",
        "        return number_of_item * 10\n",
        "    else:\n",
        "        return number_of_item * 7\n",
        "Cost(15)"
      ]
    },
    {
      "cell_type": "markdown",
      "id": "9f1f8edd",
      "metadata": {
        "id": "9f1f8edd"
      },
      "source": [
        "3- Test the function <b>Cost</b> for $n = 50 \\text{ and } 255$. (<font color = red> 1pt  </font>)"
      ]
    },
    {
      "cell_type": "code",
      "execution_count": 5,
      "id": "de596fdd",
      "metadata": {
        "colab": {
          "base_uri": "https://localhost:8080/"
        },
        "id": "de596fdd",
        "outputId": "fd6ff59b-d6cf-44b6-ebed-298c0cb37ef5"
      },
      "outputs": [
        {
          "output_type": "stream",
          "name": "stdout",
          "text": [
            "500\n",
            "1785\n"
          ]
        }
      ],
      "source": [
        "print(Cost(50))\n",
        "print(Cost(255))"
      ]
    },
    {
      "cell_type": "markdown",
      "id": "8e9f5af0",
      "metadata": {
        "id": "8e9f5af0"
      },
      "source": [
        "**Exercise 2**(<font color = red> 10pts  </font>)\n",
        "\n",
        "1- Write python code such that $a=1$ by default  of the function, named <b>QuadEqu</b>, that takes as inputs three numbers\n",
        "$a$, $b$, $c$ ∈ $\\mathbb{R}$ and return the solution in R of the equation\n",
        "$ax^2 + bx + c = 0$. (<font color = red> 3pts  </font>)"
      ]
    },
    {
      "cell_type": "code",
      "execution_count": 6,
      "id": "bbec99ff",
      "metadata": {
        "colab": {
          "base_uri": "https://localhost:8080/"
        },
        "id": "bbec99ff",
        "outputId": "a9a0862e-2891-4413-9d5e-a672dc90ca49"
      },
      "outputs": [
        {
          "output_type": "stream",
          "name": "stdout",
          "text": [
            "Roots of the equation x^2 + -3x + 2 = 0:\n",
            "Root 1: 2.0\n",
            "Root 2: 1.0\n"
          ]
        }
      ],
      "source": [
        "import math\n",
        "\n",
        "def QuadEqu(b, c, a=1):\n",
        "    # Calculate the discriminant\n",
        "    discriminant = b**2 - 4*a*c\n",
        "\n",
        "    # Check if the discriminant is positive, negative, or zero\n",
        "    if discriminant > 0:\n",
        "        # Two distinct real roots\n",
        "        root1 = (-b + math.sqrt(discriminant)) / (2*a)\n",
        "        root2 = (-b - math.sqrt(discriminant)) / (2*a)\n",
        "        return root1, root2\n",
        "    elif discriminant == 0:\n",
        "        # One real root (repeated)\n",
        "        root = -b / (2*a)\n",
        "        return root\n",
        "    else:\n",
        "        # Complex roots\n",
        "        real_part = -b / (2*a)\n",
        "        imaginary_part = math.sqrt(abs(discriminant)) / (2*a)\n",
        "        root1 = complex(real_part, imaginary_part)\n",
        "        root2 = complex(real_part, -imaginary_part)\n",
        "        return root1, root2\n",
        "\n",
        "# Example usage\n",
        "b = -3\n",
        "c = 2\n",
        "roots = QuadEqu(b, c)\n",
        "print(f\"Roots of the equation x^2 + {b}x + {c} = 0:\")\n",
        "for i, root in enumerate(roots):\n",
        "    print(f\"Root {i+1}: {root}\")\n"
      ]
    },
    {
      "cell_type": "markdown",
      "id": "e3ce1b33",
      "metadata": {
        "id": "e3ce1b33"
      },
      "source": [
        "3- Test the function  <b>QuadEqu</b> for\n",
        "- $a=1, b=2, c=1$,\n",
        "- $a=2, b=2, c=40$,\n",
        "- $a=2, b=3, c=-5$.\n",
        "\n",
        "(<font color = red> 3pts  </font>)"
      ]
    },
    {
      "cell_type": "code",
      "execution_count": 7,
      "id": "2751e711",
      "metadata": {
        "colab": {
          "base_uri": "https://localhost:8080/"
        },
        "id": "2751e711",
        "outputId": "e4bde029-4a1a-45c0-e3fc-3042e86070ea"
      },
      "outputs": [
        {
          "output_type": "stream",
          "name": "stdout",
          "text": [
            "-1.0\n",
            "((-0.5+4.444097208657794j), (-0.5-4.444097208657794j))\n",
            "(1.0, -2.5)\n"
          ]
        }
      ],
      "source": [
        "print(QuadEqu(b=2, c=1, a=1))\n",
        "print(QuadEqu(b=2, c=40, a=2))\n",
        "print(QuadEqu(b=3, c=-5, a=2))"
      ]
    },
    {
      "cell_type": "markdown",
      "id": "3402636d",
      "metadata": {
        "id": "3402636d"
      },
      "source": [
        "**Exercise 3** (<font color = red> 9pts  </font>)\n",
        "\n",
        "1- A year is a leap year if it is divisible by 4, except that years divisible\n",
        "by 100 are not leap years unless they are also divisible by 400.\n",
        "Write a python code of the function, named <b>LeapYear</b>, that takes a year, $y$, and return the boolean <b>True</b>\n",
        "if $y$ is a leap year; <b>False</b> otherwise.(<font color = red> 3pts  </font>)\n"
      ]
    },
    {
      "cell_type": "code",
      "execution_count": 8,
      "id": "18e7274f",
      "metadata": {
        "colab": {
          "base_uri": "https://localhost:8080/"
        },
        "id": "18e7274f",
        "outputId": "0e497577-4c1d-45af-c3c7-2198aa32f9c7"
      },
      "outputs": [
        {
          "output_type": "stream",
          "name": "stdout",
          "text": [
            "Is 2024 a leap year? True\n"
          ]
        }
      ],
      "source": [
        "def LeapYear(y):\n",
        "    if y % 4 == 0:\n",
        "        if y % 100 == 0:\n",
        "            if y % 400 == 0:\n",
        "                return True\n",
        "            else:\n",
        "                return False\n",
        "        else:\n",
        "            return True\n",
        "    else:\n",
        "        return False\n",
        "\n",
        "# Example usage\n",
        "year = 2024\n",
        "print(f\"Is {year} a leap year? {LeapYear(year)}\")\n"
      ]
    },
    {
      "cell_type": "markdown",
      "id": "64e7764f",
      "metadata": {
        "id": "64e7764f"
      },
      "source": [
        "3- Test the python code for the years 1700, 1900, 1996 and 2000. (<font color = red> 1pts  </font>)"
      ]
    },
    {
      "cell_type": "code",
      "execution_count": 9,
      "id": "978820ae",
      "metadata": {
        "colab": {
          "base_uri": "https://localhost:8080/"
        },
        "id": "978820ae",
        "outputId": "a22ad93d-2313-4b8c-bb31-42cfa46eaa04"
      },
      "outputs": [
        {
          "output_type": "stream",
          "name": "stdout",
          "text": [
            "Is 1700 a leap year? False\n",
            "Is 1900 a leap year? False\n",
            "Is 1996 a leap year? True\n",
            "Is 2000 a leap year? True\n"
          ]
        }
      ],
      "source": [
        "year1 = 1700\n",
        "print(f\"Is {year1} a leap year? {LeapYear(year1)}\")\n",
        "year2 = 1900\n",
        "print(f\"Is {year2} a leap year? {LeapYear(year2)}\")\n",
        "year3 = 1996\n",
        "print(f\"Is {year3} a leap year? {LeapYear(year3)}\")\n",
        "year4 = 2000\n",
        "print(f\"Is {year4} a leap year? {LeapYear(year4)}\")"
      ]
    },
    {
      "cell_type": "code",
      "execution_count": null,
      "id": "7858ff60",
      "metadata": {
        "id": "7858ff60"
      },
      "outputs": [],
      "source": []
    },
    {
      "cell_type": "markdown",
      "id": "e55d66ae",
      "metadata": {
        "id": "e55d66ae"
      },
      "source": [
        "**Exercise 4** (<font color = red> 4pts  </font>)\n",
        "\n",
        "The digital root of a positive number n is obtained as follows: Add up the digits n to get a new number.\n",
        "Add up the digits of that to get another new number. Keep doing this until you get a number\n",
        "that has only one digit. That number is the digital root.\n",
        "\n",
        "For example, if $n = 45893$, we add up the digits to get $$4 + 5 + 8 + 9 + 3 = 29.$$ We then add up\n",
        "the digits of $29$ to get $$2 + 9 = 11.$$ We then add up the digits of $11$ to get $$1 + 1 = 2.$$ Since 2 has\n",
        "only one digit, 2 is our digital root.\n",
        "\n",
        "1- Write the Python code of the function **DigRoot** that returns the digital root of an integer $n$ given as input (you can use the python function **len**).(<font color = red> 3pts  </font>)\n",
        "\n"
      ]
    },
    {
      "cell_type": "code",
      "execution_count": 10,
      "id": "90783e77",
      "metadata": {
        "colab": {
          "base_uri": "https://localhost:8080/"
        },
        "id": "90783e77",
        "outputId": "5eb0efc5-bf29-4574-ca40-38db39809c6b"
      },
      "outputs": [
        {
          "output_type": "stream",
          "name": "stdout",
          "text": [
            "The digital root of 45893 is 2\n"
          ]
        }
      ],
      "source": [
        "def DigRoot(n):\n",
        "    while len(str(n)) > 1:\n",
        "        n = sum(int(digit) for digit in str(n))\n",
        "    return n\n",
        "\n",
        "# Example usage\n",
        "number = 45893\n",
        "print(f\"The digital root of {number} is {DigRoot(number)}\")"
      ]
    },
    {
      "cell_type": "markdown",
      "id": "9de95909",
      "metadata": {
        "id": "9de95909"
      },
      "source": [
        "2-  Test the function **DigRoot** for $n = 74568$.(<font color = red> 1pts  </font>)"
      ]
    },
    {
      "cell_type": "code",
      "execution_count": 11,
      "id": "e500fe9f",
      "metadata": {
        "colab": {
          "base_uri": "https://localhost:8080/"
        },
        "id": "e500fe9f",
        "outputId": "d43f17b4-744b-4293-efec-d1f6d8ef804a"
      },
      "outputs": [
        {
          "output_type": "execute_result",
          "data": {
            "text/plain": [
              "3"
            ]
          },
          "metadata": {},
          "execution_count": 11
        }
      ],
      "source": [
        "DigRoot(74568)"
      ]
    },
    {
      "cell_type": "markdown",
      "id": "c3ff070f",
      "metadata": {
        "id": "c3ff070f"
      },
      "source": [
        "**Exercise 5**(<font color = red> 6pts  </font>)\n",
        "\n",
        "1- Write a Python code that asks the user to enter a string and displays the number of upper case letters and lower case letters. Check for: **The quick Brow Fox and 'I am proud of Mr McDonald**. (<font color = red> 3pts  </font>)"
      ]
    },
    {
      "cell_type": "code",
      "execution_count": 12,
      "id": "dd40e769",
      "metadata": {
        "colab": {
          "base_uri": "https://localhost:8080/"
        },
        "id": "dd40e769",
        "outputId": "9698c9ee-4005-4903-8a5a-dbd3e68c57dc"
      },
      "outputs": [
        {
          "output_type": "stream",
          "name": "stdout",
          "text": [
            "Enter a string: The quick Brow Fox and 'I am proud of Mr McDonald\n",
            "Number of uppercase letters: 7\n",
            "Number of lowercase letters: 31\n"
          ]
        }
      ],
      "source": [
        "def count_upper_lower(string):\n",
        "    upper_count = 0\n",
        "    lower_count = 0\n",
        "\n",
        "    for char in string:\n",
        "        if char.isupper():\n",
        "            upper_count += 1\n",
        "        elif char.islower():\n",
        "            lower_count += 1\n",
        "\n",
        "    return upper_count, lower_count\n",
        "\n",
        "# Example usage\n",
        "user_input = input(\"Enter a string: \")\n",
        "upper, lower = count_upper_lower(user_input)\n",
        "print(f\"Number of uppercase letters: {upper}\")\n",
        "print(f\"Number of lowercase letters: {lower}\")\n"
      ]
    },
    {
      "cell_type": "code",
      "execution_count": null,
      "id": "2e55208b",
      "metadata": {
        "id": "2e55208b"
      },
      "outputs": [],
      "source": []
    },
    {
      "cell_type": "markdown",
      "id": "0bc2f223",
      "metadata": {
        "id": "0bc2f223"
      },
      "source": [
        "**Exercise 6**(<font color = red> 6pts  </font>)\n",
        "\n",
        "1- Write a Python code of function, named **AllDivisor** , that takes a positive integer $n$ as input and returns the list of all the divisors of $n$. (<font color = red> 3pts  </font>)"
      ]
    },
    {
      "cell_type": "code",
      "execution_count": 13,
      "id": "ea4dcd02",
      "metadata": {
        "colab": {
          "base_uri": "https://localhost:8080/"
        },
        "id": "ea4dcd02",
        "outputId": "a94c9249-4c30-4a3b-fef4-0e451c76c25c"
      },
      "outputs": [
        {
          "output_type": "stream",
          "name": "stdout",
          "text": [
            "All divisors of 28: [1, 2, 4, 7, 14, 28]\n"
          ]
        }
      ],
      "source": [
        "def AllDivisor(n):\n",
        "    divisors = []\n",
        "    for i in range(1, n+1):\n",
        "        if n % i == 0:\n",
        "            divisors.append(i)\n",
        "    return divisors\n",
        "\n",
        "# Example usage\n",
        "number = 28\n",
        "print(f\"All divisors of {number}: {AllDivisor(number)}\")"
      ]
    },
    {
      "cell_type": "code",
      "execution_count": null,
      "id": "27741ae4",
      "metadata": {
        "id": "27741ae4"
      },
      "outputs": [],
      "source": []
    },
    {
      "cell_type": "markdown",
      "id": "8f959239",
      "metadata": {
        "id": "8f959239"
      },
      "source": [
        "**Exercise 7**(<font color = red> 9pts  </font>)\n",
        "\n",
        "1- Use the python lambda syntax to define the function $ f(x) = x^3 -3x - 5$ then compute and display $f(-10)$, $f(10)$. (<font color = red> 3pts  </font>)"
      ]
    },
    {
      "cell_type": "code",
      "source": [
        "f = lambda x: x**3 - 3*x - 5"
      ],
      "metadata": {
        "id": "afcPdUPF0tb5"
      },
      "id": "afcPdUPF0tb5",
      "execution_count": 14,
      "outputs": []
    },
    {
      "cell_type": "markdown",
      "id": "f8959561",
      "metadata": {
        "id": "f8959561"
      },
      "source": [
        "2- Let us consider a continuous function “f” which is defined on the closed interval [a, b], is given with f(a) and f(b) of different signs. Then by intermediate theorem, there exists a point x belong to (a, b) for which f(x) = 0. The bisection method is an approximation method to find the roots of the given equation by repeatedly dividing the interval. This method will divide the interval until the resulting interval is found, which is extremely small.\n",
        "\n",
        "Given the following function $ f(x) = x^3 -3x - 5;$ let $x_0 \\in [a,b]$ be the solution of the equation $f(x) = 0$. Write a function named **Bissection** that returns an approximation $\\bar{x}$ of $x_0$ such that $$ \\mid \\bar{x} - x_0 \\mid \\leq \\epsilon, $$\n",
        "for the given inputs $a,b$ and $\\epsilon$ with a default value $10^{-2}$.(<font color = red> 5pts  </font>)"
      ]
    },
    {
      "cell_type": "code",
      "execution_count": 15,
      "id": "59b77970",
      "metadata": {
        "colab": {
          "base_uri": "https://localhost:8080/"
        },
        "id": "59b77970",
        "outputId": "9fea9a84-f86d-4aae-9809-56640b5a430f"
      },
      "outputs": [
        {
          "output_type": "stream",
          "name": "stdout",
          "text": [
            "Approximation of the root between 1 and 2: 1.99609375\n"
          ]
        }
      ],
      "source": [
        "def f(x):\n",
        "    return x**3 - 3*x - 5\n",
        "\n",
        "def Bissection(a, b, epsilon=1e-2):\n",
        "    while abs(b - a) > epsilon:\n",
        "        c = (a + b) / 2\n",
        "        if f(c) == 0:\n",
        "            return c\n",
        "        elif f(a) * f(c) < 0:\n",
        "            b = c\n",
        "        else:\n",
        "            a = c\n",
        "    return (a + b) / 2\n",
        "\n",
        "# Example usage\n",
        "a = 1\n",
        "b = 2\n",
        "approximation = Bissection(a, b)\n",
        "print(f\"Approximation of the root between {a} and {b}: {approximation:.8f}\")\n"
      ]
    },
    {
      "cell_type": "markdown",
      "id": "d5804b38",
      "metadata": {
        "id": "d5804b38"
      },
      "source": [
        "3- Test the function **Bissection** for $a=-10, b=10$. (<font color = red> 1pts  </font>)"
      ]
    },
    {
      "cell_type": "code",
      "execution_count": 16,
      "id": "2deaaaf5",
      "metadata": {
        "colab": {
          "base_uri": "https://localhost:8080/"
        },
        "id": "2deaaaf5",
        "outputId": "902cb325-89b3-4f72-ea3a-d97728db7ea7"
      },
      "outputs": [
        {
          "output_type": "execute_result",
          "data": {
            "text/plain": [
              "2.2802734375"
            ]
          },
          "metadata": {},
          "execution_count": 16
        }
      ],
      "source": [
        "Bissection(-10, 10, epsilon=1e-2)"
      ]
    },
    {
      "cell_type": "code",
      "source": [],
      "metadata": {
        "id": "RLTRooCi1I-k"
      },
      "id": "RLTRooCi1I-k",
      "execution_count": null,
      "outputs": []
    }
  ],
  "metadata": {
    "kernelspec": {
      "display_name": "Python 3 (ipykernel)",
      "language": "python",
      "name": "python3"
    },
    "language_info": {
      "codemirror_mode": {
        "name": "ipython",
        "version": 3
      },
      "file_extension": ".py",
      "mimetype": "text/x-python",
      "name": "python",
      "nbconvert_exporter": "python",
      "pygments_lexer": "ipython3",
      "version": "3.9.7"
    },
    "colab": {
      "provenance": []
    }
  },
  "nbformat": 4,
  "nbformat_minor": 5
}